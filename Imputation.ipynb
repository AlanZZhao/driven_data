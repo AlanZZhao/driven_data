{
 "cells": [
  {
   "cell_type": "code",
   "execution_count": 16,
   "metadata": {
    "collapsed": true
   },
   "outputs": [],
   "source": [
    "import pandas as pd\n",
    "from statsmodels.imputation import mice"
   ]
  },
  {
   "cell_type": "code",
   "execution_count": 17,
   "metadata": {
    "collapsed": true
   },
   "outputs": [],
   "source": [
    "# import the raw training data\n",
    "from data_munge import a_i_train, a_h_train, b_i_train, b_h_train, c_i_train, c_h_train\n",
    "\n",
    "# import the raw test data\n",
    "from data_munge import a_i_test, a_h_test, b_i_test, b_h_test, c_i_test, c_h_test\n",
    "\n",
    "# import the preprocessed data\n",
    "from data_munge import aX_h_train, ay_h_train, bX_h_train, by_h_train, cX_h_train, cy_h_train\n",
    "from data_munge import aX_i_train, ay_i_train, bX_i_train, by_i_train, cX_i_train, cy_i_train "
   ]
  },
  {
   "cell_type": "markdown",
   "metadata": {},
   "source": [
    "Note that only B's household and individual, and A's individual data have NaNs.\n"
   ]
  },
  {
   "cell_type": "code",
   "execution_count": 34,
   "metadata": {
    "scrolled": false
   },
   "outputs": [
    {
     "data": {
      "text/plain": [
       "True"
      ]
     },
     "execution_count": 34,
     "metadata": {},
     "output_type": "execute_result"
    }
   ],
   "source": [
    "True in a_i_train.isnull().any(axis=1).values"
   ]
  },
  {
   "cell_type": "code",
   "execution_count": 36,
   "metadata": {},
   "outputs": [
    {
     "data": {
      "text/plain": [
       "False"
      ]
     },
     "execution_count": 36,
     "metadata": {},
     "output_type": "execute_result"
    }
   ],
   "source": [
    "True in a_h_train.isnull().any(axis=1).values"
   ]
  },
  {
   "cell_type": "code",
   "execution_count": 37,
   "metadata": {},
   "outputs": [
    {
     "data": {
      "text/plain": [
       "True"
      ]
     },
     "execution_count": 37,
     "metadata": {},
     "output_type": "execute_result"
    }
   ],
   "source": [
    "True in b_i_train.isnull().any(axis=1).values"
   ]
  },
  {
   "cell_type": "code",
   "execution_count": 38,
   "metadata": {},
   "outputs": [
    {
     "data": {
      "text/plain": [
       "True"
      ]
     },
     "execution_count": 38,
     "metadata": {},
     "output_type": "execute_result"
    }
   ],
   "source": [
    "True in b_h_train.isnull().any(axis=1).values"
   ]
  },
  {
   "cell_type": "code",
   "execution_count": 39,
   "metadata": {},
   "outputs": [
    {
     "data": {
      "text/plain": [
       "False"
      ]
     },
     "execution_count": 39,
     "metadata": {},
     "output_type": "execute_result"
    }
   ],
   "source": [
    "True in c_i_train.isnull().any(axis=1).values"
   ]
  },
  {
   "cell_type": "code",
   "execution_count": 40,
   "metadata": {},
   "outputs": [
    {
     "data": {
      "text/plain": [
       "False"
      ]
     },
     "execution_count": 40,
     "metadata": {},
     "output_type": "execute_result"
    }
   ],
   "source": [
    "True in c_h_train.isnull().any(axis=1).values"
   ]
  },
  {
   "cell_type": "code",
   "execution_count": 42,
   "metadata": {},
   "outputs": [
    {
     "data": {
      "text/plain": [
       "True"
      ]
     },
     "execution_count": 42,
     "metadata": {},
     "output_type": "execute_result"
    }
   ],
   "source": [
    "True in bX_i_train.isnull().any(axis=1).values"
   ]
  },
  {
   "cell_type": "markdown",
   "metadata": {},
   "source": [
    "Test datasets follow a similar pattern: only B's household and individual, and A's individual data have NaNs."
   ]
  },
  {
   "cell_type": "code",
   "execution_count": 54,
   "metadata": {},
   "outputs": [
    {
     "data": {
      "text/plain": [
       "True"
      ]
     },
     "execution_count": 54,
     "metadata": {},
     "output_type": "execute_result"
    }
   ],
   "source": [
    "True in a_i_test.isnull().any(axis=1).values"
   ]
  },
  {
   "cell_type": "code",
   "execution_count": 57,
   "metadata": {},
   "outputs": [
    {
     "data": {
      "text/plain": [
       "False"
      ]
     },
     "execution_count": 57,
     "metadata": {},
     "output_type": "execute_result"
    }
   ],
   "source": [
    "True in a_h_test.isnull().any(axis=1).values"
   ]
  },
  {
   "cell_type": "code",
   "execution_count": 58,
   "metadata": {},
   "outputs": [
    {
     "data": {
      "text/plain": [
       "True"
      ]
     },
     "execution_count": 58,
     "metadata": {},
     "output_type": "execute_result"
    }
   ],
   "source": [
    "True in b_i_test.isnull().any(axis=1).values"
   ]
  },
  {
   "cell_type": "code",
   "execution_count": 59,
   "metadata": {},
   "outputs": [
    {
     "data": {
      "text/plain": [
       "True"
      ]
     },
     "execution_count": 59,
     "metadata": {},
     "output_type": "execute_result"
    }
   ],
   "source": [
    "True in b_h_test.isnull().any(axis=1).values"
   ]
  },
  {
   "cell_type": "code",
   "execution_count": 60,
   "metadata": {},
   "outputs": [
    {
     "data": {
      "text/plain": [
       "False"
      ]
     },
     "execution_count": 60,
     "metadata": {},
     "output_type": "execute_result"
    }
   ],
   "source": [
    "True in c_i_test.isnull().any(axis=1).values"
   ]
  },
  {
   "cell_type": "code",
   "execution_count": 61,
   "metadata": {},
   "outputs": [
    {
     "data": {
      "text/plain": [
       "False"
      ]
     },
     "execution_count": 61,
     "metadata": {},
     "output_type": "execute_result"
    }
   ],
   "source": [
    "True in c_h_test.isnull().any(axis=1).values"
   ]
  },
  {
   "cell_type": "markdown",
   "metadata": {},
   "source": [
    "StatsModels has a nice multiple imputation package. Default settings used.\n",
    "http://www.statsmodels.org/stable/generated/statsmodels.imputation.mice.MICEData.html"
   ]
  },
  {
   "cell_type": "code",
   "execution_count": 49,
   "metadata": {
    "collapsed": true,
    "scrolled": true
   },
   "outputs": [],
   "source": [
    "imp = mice.MICEData(bX_i_train)"
   ]
  },
  {
   "cell_type": "code",
   "execution_count": 50,
   "metadata": {},
   "outputs": [
    {
     "data": {
      "text/plain": [
       "False"
      ]
     },
     "execution_count": 50,
     "metadata": {},
     "output_type": "execute_result"
    }
   ],
   "source": [
    "True in imp.data.isnull().any(axis=1).values"
   ]
  },
  {
   "cell_type": "code",
   "execution_count": 52,
   "metadata": {
    "scrolled": true
   },
   "outputs": [
    {
     "data": {
      "text/plain": [
       "0        0.125074\n",
       "1        0.125074\n",
       "2       -1.835997\n",
       "3        0.125074\n",
       "4        0.125074\n",
       "5        0.125074\n",
       "6        0.125074\n",
       "7        0.125074\n",
       "8       -1.182306\n",
       "9        0.125074\n",
       "10       1.105609\n",
       "11       1.105609\n",
       "12       0.125074\n",
       "13       0.125074\n",
       "14       0.125074\n",
       "15       0.125074\n",
       "16       0.125074\n",
       "17       0.778764\n",
       "18       0.125074\n",
       "19       0.125074\n",
       "20      -0.855461\n",
       "21       1.432455\n",
       "22       0.778764\n",
       "23       0.778764\n",
       "24       0.125074\n",
       "25       0.125074\n",
       "26       0.125074\n",
       "27       0.125074\n",
       "28       0.778764\n",
       "29       0.125074\n",
       "           ...   \n",
       "20222   -1.182306\n",
       "20223    0.125074\n",
       "20224    0.125074\n",
       "20225    0.125074\n",
       "20226    0.125074\n",
       "20227    0.125074\n",
       "20228    0.125074\n",
       "20229    0.125074\n",
       "20230    0.125074\n",
       "20231    0.125074\n",
       "20232   -0.528616\n",
       "20233    0.778764\n",
       "20234    0.125074\n",
       "20235    0.125074\n",
       "20236    0.125074\n",
       "20237    0.125074\n",
       "20238    0.125074\n",
       "20239    0.125074\n",
       "20240    0.125074\n",
       "20241    0.125074\n",
       "20242    0.125074\n",
       "20243    0.125074\n",
       "20244    0.125074\n",
       "20245    0.125074\n",
       "20246    0.125074\n",
       "20247    0.125074\n",
       "20248    0.125074\n",
       "20249    0.125074\n",
       "20250    0.125074\n",
       "20251    0.125074\n",
       "Name: BoxViLPz, Length: 20252, dtype: float64"
      ]
     },
     "execution_count": 52,
     "metadata": {},
     "output_type": "execute_result"
    }
   ],
   "source": [
    "imp.data['BoxViLPz']"
   ]
  },
  {
   "cell_type": "code",
   "execution_count": null,
   "metadata": {
    "collapsed": true
   },
   "outputs": [],
   "source": []
  }
 ],
 "metadata": {
  "kernelspec": {
   "display_name": "Python 3",
   "language": "python",
   "name": "python3"
  },
  "language_info": {
   "codemirror_mode": {
    "name": "ipython",
    "version": 3
   },
   "file_extension": ".py",
   "mimetype": "text/x-python",
   "name": "python",
   "nbconvert_exporter": "python",
   "pygments_lexer": "ipython3",
   "version": "3.6.3"
  }
 },
 "nbformat": 4,
 "nbformat_minor": 2
}
